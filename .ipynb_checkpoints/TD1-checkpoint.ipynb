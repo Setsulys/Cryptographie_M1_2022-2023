{
 "cells": [
  {
   "cell_type": "code",
   "execution_count": 254,
   "id": "18c5e523",
   "metadata": {},
   "outputs": [],
   "source": [
    "import matplotlib.pyplot as plt\n",
    "import numpy as np\n",
    "import string as s"
   ]
  },
  {
   "cell_type": "code",
   "execution_count": 255,
   "id": "c3ca6e31",
   "metadata": {},
   "outputs": [],
   "source": [
    "def decrypt_cesar(string):\n",
    "    string = string\n",
    "    lst =''\n",
    "    for j in range(26):\n",
    "        for i in string:\n",
    "            if(i.isalpha()):\n",
    "               lst+=chr((ord(i) - 65 + j)%26 +65)\n",
    "            else:\n",
    "                lst+=i\n",
    "        print(lst+\"\\n\")\n",
    "        lst=\"\"\n",
    "        "
   ]
  },
  {
   "cell_type": "code",
   "execution_count": 256,
   "id": "733392db",
   "metadata": {},
   "outputs": [
    {
     "name": "stdout",
     "output_type": "stream",
     "text": [
      "OQFFQ CGQEFUAZ QEF FDQE RMOUXQ, XM CGQEFUAZ EGUHMZFQ QEF BXGE PURRUOUXQ.\n",
      "\n",
      "PRGGR DHRFGVBA RFG GERF SNPVYR, YN DHRFGVBA FHVINAGR RFG CYHF QVSSVPVYR.\n",
      "\n",
      "QSHHS EISGHWCB SGH HFSG TOQWZS, ZO EISGHWCB GIWJOBHS SGH DZIG RWTTWQWZS.\n",
      "\n",
      "RTIIT FJTHIXDC THI IGTH UPRXAT, AP FJTHIXDC HJXKPCIT THI EAJH SXUUXRXAT.\n",
      "\n",
      "SUJJU GKUIJYED UIJ JHUI VQSYBU, BQ GKUIJYED IKYLQDJU UIJ FBKI TYVVYSYBU.\n",
      "\n",
      "TVKKV HLVJKZFE VJK KIVJ WRTZCV, CR HLVJKZFE JLZMREKV VJK GCLJ UZWWZTZCV.\n",
      "\n",
      "UWLLW IMWKLAGF WKL LJWK XSUADW, DS IMWKLAGF KMANSFLW WKL HDMK VAXXAUADW.\n",
      "\n",
      "VXMMX JNXLMBHG XLM MKXL YTVBEX, ET JNXLMBHG LNBOTGMX XLM IENL WBYYBVBEX.\n",
      "\n",
      "WYNNY KOYMNCIH YMN NLYM ZUWCFY, FU KOYMNCIH MOCPUHNY YMN JFOM XCZZCWCFY.\n",
      "\n",
      "XZOOZ LPZNODJI ZNO OMZN AVXDGZ, GV LPZNODJI NPDQVIOZ ZNO KGPN YDAADXDGZ.\n",
      "\n",
      "YAPPA MQAOPEKJ AOP PNAO BWYEHA, HW MQAOPEKJ OQERWJPA AOP LHQO ZEBBEYEHA.\n",
      "\n",
      "ZBQQB NRBPQFLK BPQ QOBP CXZFIB, IX NRBPQFLK PRFSXKQB BPQ MIRP AFCCFZFIB.\n",
      "\n",
      "ACRRC OSCQRGML CQR RPCQ DYAGJC, JY OSCQRGML QSGTYLRC CQR NJSQ BGDDGAGJC.\n",
      "\n",
      "BDSSD PTDRSHNM DRS SQDR EZBHKD, KZ PTDRSHNM RTHUZMSD DRS OKTR CHEEHBHKD.\n",
      "\n",
      "CETTE QUESTION EST TRES FACILE, LA QUESTION SUIVANTE EST PLUS DIFFICILE.\n",
      "\n",
      "DFUUF RVFTUJPO FTU USFT GBDJMF, MB RVFTUJPO TVJWBOUF FTU QMVT EJGGJDJMF.\n",
      "\n",
      "EGVVG SWGUVKQP GUV VTGU HCEKNG, NC SWGUVKQP UWKXCPVG GUV RNWU FKHHKEKNG.\n",
      "\n",
      "FHWWH TXHVWLRQ HVW WUHV IDFLOH, OD TXHVWLRQ VXLYDQWH HVW SOXV GLIILFLOH.\n",
      "\n",
      "GIXXI UYIWXMSR IWX XVIW JEGMPI, PE UYIWXMSR WYMZERXI IWX TPYW HMJJMGMPI.\n",
      "\n",
      "HJYYJ VZJXYNTS JXY YWJX KFHNQJ, QF VZJXYNTS XZNAFSYJ JXY UQZX INKKNHNQJ.\n",
      "\n",
      "IKZZK WAKYZOUT KYZ ZXKY LGIORK, RG WAKYZOUT YAOBGTZK KYZ VRAY JOLLOIORK.\n",
      "\n",
      "JLAAL XBLZAPVU LZA AYLZ MHJPSL, SH XBLZAPVU ZBPCHUAL LZA WSBZ KPMMPJPSL.\n",
      "\n",
      "KMBBM YCMABQWV MAB BZMA NIKQTM, TI YCMABQWV ACQDIVBM MAB XTCA LQNNQKQTM.\n",
      "\n",
      "LNCCN ZDNBCRXW NBC CANB OJLRUN, UJ ZDNBCRXW BDREJWCN NBC YUDB MROORLRUN.\n",
      "\n",
      "MODDO AEOCDSYX OCD DBOC PKMSVO, VK AEOCDSYX CESFKXDO OCD ZVEC NSPPSMSVO.\n",
      "\n",
      "NPEEP BFPDETZY PDE ECPD QLNTWP, WL BFPDETZY DFTGLYEP PDE AWFD OTQQTNTWP.\n",
      "\n"
     ]
    }
   ],
   "source": [
    "decrypt_cesar(\"OQFFQ CGQEFUAZ QEF FDQE RMOUXQ, XM CGQEFUAZ EGUHMZFQ QEF BXGE PURRUOUXQ.\")"
   ]
  },
  {
   "cell_type": "code",
   "execution_count": 257,
   "id": "3138fd3c",
   "metadata": {},
   "outputs": [],
   "source": [
    "def hist_letter(string):\n",
    "    d = dict.fromkeys(s.ascii_uppercase, 0)\n",
    "    for i in string:\n",
    "        if(i.isalpha()):\n",
    "            if(i.upper() in d):\n",
    "                d[i]+=1\n",
    "    plt.show() \n",
    "    plt.bar(d.keys(), d.values(), color='g')\n",
    "    return d"
   ]
  },
  {
   "cell_type": "code",
   "execution_count": 258,
   "id": "abfa49c8",
   "metadata": {},
   "outputs": [
    {
     "data": {
      "text/plain": [
       "{'A': 2,\n",
       " 'B': 1,\n",
       " 'C': 2,\n",
       " 'D': 1,\n",
       " 'E': 7,\n",
       " 'F': 8,\n",
       " 'G': 4,\n",
       " 'H': 1,\n",
       " 'I': 0,\n",
       " 'J': 0,\n",
       " 'K': 0,\n",
       " 'L': 0,\n",
       " 'M': 3,\n",
       " 'N': 0,\n",
       " 'O': 3,\n",
       " 'P': 1,\n",
       " 'Q': 10,\n",
       " 'R': 3,\n",
       " 'S': 0,\n",
       " 'T': 0,\n",
       " 'U': 7,\n",
       " 'V': 0,\n",
       " 'W': 0,\n",
       " 'X': 4,\n",
       " 'Y': 0,\n",
       " 'Z': 3}"
      ]
     },
     "execution_count": 258,
     "metadata": {},
     "output_type": "execute_result"
    },
    {
     "data": {
      "image/png": "[encoded data removed]",
      "text/plain": [
       "<Figure size 432x288 with 1 Axes>"
      ]
     },
     "metadata": {
      "needs_background": "light"
     },
     "output_type": "display_data"
    }
   ],
   "source": [
    "hist_letter(\"OQFFQ CGQEFUAZ QEF FDQE RMOUXQ, XM CGQEFUAZ EGUHMZFQ QEF BXGE PURRUOUXQ.\")"
   ]
  },
  {
   "cell_type": "code",
   "execution_count": 259,
   "id": "0bf4b8d2",
   "metadata": {},
   "outputs": [
    {
     "data": {
      "text/plain": [
       "12"
      ]
     },
     "execution_count": 259,
     "metadata": {},
     "output_type": "execute_result"
    }
   ],
   "source": [
    "ord('q')-ord('e')"
   ]
  },
  {
   "cell_type": "markdown",
   "id": "049229e4",
   "metadata": {},
   "source": [
    "On a donc un décalage de 12"
   ]
  },
  {
   "cell_type": "code",
   "execution_count": 330,
   "id": "ed84fc3d",
   "metadata": {},
   "outputs": [],
   "source": [
    "def decrypt_auto(string):\n",
    "    lst=\"\"\n",
    "    keymax=''\n",
    "    dictionnaire = hist_letter(string)\n",
    "    Kmax = max(zip(dictionnaire.values(), dictionnaire.keys()))[1]\n",
    "    decrypt= ord(Kmax)-ord('e')\n",
    "    for i in string:\n",
    "        if(i.isalpha()):\n",
    "            lst += chr((ord(i) - 65 + decrypt)%26 +65)\n",
    "        else:\n",
    "            lst += i\n",
    "    return lst"
   ]
  },
  {
   "cell_type": "code",
   "execution_count": 331,
   "id": "85ce134b",
   "metadata": {},
   "outputs": [
    {
     "data": {
      "text/plain": [
       "'ACRRC OSCQRGML CQR RPCQ DYAGJC, JY OSCQRGML QSGTYLRC CQR NJSQ BGDDGAGJC.'"
      ]
     },
     "execution_count": 331,
     "metadata": {},
     "output_type": "execute_result"
    },
    {
     "data": {
      "image/png": "[encoded data removed]",
      "text/plain": [
       "<Figure size 432x288 with 1 Axes>"
      ]
     },
     "metadata": {
      "needs_background": "light"
     },
     "output_type": "display_data"
    }
   ],
   "source": [
    "decrypt_auto(\"OQFFQ CGQEFUAZ QEF FDQE RMOUXQ, XM CGQEFUAZ EGUHMZFQ QEF BXGE PURRUOUXQ.\")"
   ]
  },
  {
   "cell_type": "code",
   "execution_count": null,
   "id": "01ede063",
   "metadata": {},
   "outputs": [],
   "source": []
  },
  {
   "cell_type": "code",
   "execution_count": null,
   "id": "27dc7897",
   "metadata": {},
   "outputs": [],
   "source": []
  }
 ],
 "metadata": {
  "kernelspec": {
   "display_name": "Python 3",
   "language": "python",
   "name": "python3"
  },
  "language_info": {
   "codemirror_mode": {
    "name": "ipython",
    "version": 3
   },
   "file_extension": ".py",
   "mimetype": "text/x-python",
   "name": "python",
   "nbconvert_exporter": "python",
   "pygments_lexer": "ipython3",
   "version": "3.6.9"
  }
 },
 "nbformat": 4,
 "nbformat_minor": 5
}
