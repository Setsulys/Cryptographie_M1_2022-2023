{
 "cells": [
  {
   "cell_type": "markdown",
   "id": "f5ff4b11",
   "metadata": {},
   "source": [
    "### EXERCICE 1"
   ]
  },
  {
   "cell_type": "code",
   "execution_count": 40,
   "id": "5a9da0fc",
   "metadata": {},
   "outputs": [],
   "source": [
    "class RSA:\n",
    "    def __init__(self,p,q,e):\n",
    "        self.p = p\n",
    "        self.q = q\n",
    "        self.e = e\n",
    "        self.n = p * q\n",
    "#        if( e < 2 or e > n -1):\n",
    "#            raise AssertionError()\n",
    "        self.phi = (p - 1)*(q - 1)\n",
    "        self.d = self.inversemod(e,self.phi)\n",
    "        \n",
    "    def isprime(self,n):\n",
    "        for i in range (2,n-1):\n",
    "            if(n%i == 0):\n",
    "                return False\n",
    "        return True\n",
    "    \n",
    "    def xgcd(self,a,b):\n",
    "        if( 0 == b):\n",
    "            return (a,1,0)\n",
    "        d,u,v = self.xgcd(b,a % b)\n",
    "        return (d,v,u - (a//b)*v)\n",
    "    \n",
    "    def inversemod(self,a,n):\n",
    "        d,u,v = self.xgcd(a,n)\n",
    "        if d == 1 :\n",
    "            return u%n\n",
    "        else:\n",
    "            return None\n",
    "\n",
    "\n",
    "    def powermod(self,a,m,n):\n",
    "        res = 1; x=a\n",
    "        while m:\n",
    "            if m & 1: \n",
    "                res = (res*x) %n\n",
    "            x = (x*x) %n\n",
    "            m >>= 1\n",
    "            \n",
    "        return res\n",
    "\n",
    "    def encrypt(self,x):\n",
    "        return self.powermod(x,self.e,self.n)\n",
    "    \n",
    "    def decrypt(self,y):\n",
    "        return self.powermod(y,self.d,self.n)\n"
   ]
  },
  {
   "cell_type": "code",
   "execution_count": 41,
   "id": "e7d3e162",
   "metadata": {},
   "outputs": [
    {
     "name": "stdout",
     "output_type": "stream",
     "text": [
      "message 1808808319415691415062465989446183136395423154715795462152356725976667671981921260211627443446049\n",
      "encrypt 0x10a000004972030440233370fff100006020600010a000004972030440233370fff1000060206\n",
      "decrypt 1808808319415691415062465989446183136395423154715795462152356725976667671981921260211627443446049\n"
     ]
    }
   ],
   "source": [
    "p = 1113954325148827987925490175477024844070922844843\n",
    "q = 1917481702524504439375786268230862180696934189293\n",
    "e = 3\n",
    "message  = 1808808319415691415062465989446183136395423154715795462152356725976667671981921260211627443446049\n",
    "\n",
    "rsa = RSA(p,q,e)\n",
    "print(\"message \" + str(message))\n",
    "print(\"encrypt \"+str(hex(rsa.encrypt(message))))\n",
    "print(\"decrypt \"+str(rsa.decrypt(rsa.encrypt(message))))\n"
   ]
  },
  {
   "cell_type": "code",
   "execution_count": null,
   "id": "e0c68d8f",
   "metadata": {},
   "outputs": [],
   "source": []
  },
  {
   "cell_type": "code",
   "execution_count": null,
   "id": "4c145277",
   "metadata": {},
   "outputs": [],
   "source": []
  }
 ],
 "metadata": {
  "kernelspec": {
   "display_name": "Python 3",
   "language": "python",
   "name": "python3"
  },
  "language_info": {
   "codemirror_mode": {
    "name": "ipython",
    "version": 3
   },
   "file_extension": ".py",
   "mimetype": "text/x-python",
   "name": "python",
   "nbconvert_exporter": "python",
   "pygments_lexer": "ipython3",
   "version": "3.6.9"
  }
 },
 "nbformat": 4,
 "nbformat_minor": 5
}
