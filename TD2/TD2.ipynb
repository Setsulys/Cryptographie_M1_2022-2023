{
 "cells": [
  {
   "cell_type": "code",
   "execution_count": 2,
   "id": "db345402",
   "metadata": {},
   "outputs": [
    {
     "name": "stdout",
     "output_type": "stream",
     "text": [
      "      UKMHEUTN YP DERJJN,\n",
      "\n",
      "QSNNO DTWGVF V'ZXA YNNEUMF INJAAQIT, QKMAQKR JFXX SLHFXFRYP, QK'NJ E MTNOGL YKTFDOGUDWWRY ZXP XEZQE KRWORYS C EZ DEEWZDFPQE OL EZ MFSDBMMQGA, I'LN J'EBNAOEP, KHD EZ DEEWFPIT, OL IAHEUMBPZF OL CVVGB RWCIT MNFPEHNJEZKVV, H'ICVGMA OL QEFOP XEZQE QKL ZA YE WFPA EXVFRYP OL MFZBSFS P CVVGM SRYEUMF QWCJPDKICJLH JN WC QMOEV EEW XRITMFAX OL CVVGA YOGIAT.\n",
      "    KJ NEUMH B TPFMF IBNRKOBPCIW PK \"VTNGVSQABD ZBPUQ\" OLODNJYP OGMHM QGA YPA EZFCJEPWOAX OLY SOGIAMH QKS A'LHI TZBWDYC, M'ZF HE WAQN RHDCJ OL UKX IYPXR VTM SR IPVMF OL GHDV FPOQIGWWRY.\n",
      "    CB CVYE ECBDDFS, C GHDVEW EPMH DVNJEW, QKL ZP XKOKMOL ZX MXMNK, FUD ILQKJNIT, ZX OSZBYPY LKTWYM SQ PGA CB OFJAS CEHS QUD QEJAOGUD OLECBGBZKFMF YP FDXVSCW SEZQKV, HX TUMFXUD JN EZ FDCKADT.\n",
      "    XT VUWC QZFOGP DFXG HBMOCH BX TEUB GUWWDRH WW EPAVO RX IKTFDOGH QFPOLD-MUWQ WEPC ZGA SRYE SDWYECLHF VXTRLVGH BEW OSPMBPCIMH.\n",
      "    FP E'ZFOFPIT Q'XUD DEGQNMZ FPXLHKM, CB CVYE DEEU U'VVTMSA, LLHECOEV UP XMFKZO, DXREC QKT VPFMF UVWW, E'ZCQTNNNQE OL CG WBRWOGIT OSMHZDZFRLCIM HNNN RMFENIBQE OL WWC QDFDVRLCIMH IBHHXRKSMSK MD CA YEW KUYXSFITK MZBMFCQMSC.\n",
      "\n",
      "    (QOCANKFMF JN PZMFCQP)\n",
      "     (XEUZSH BKI)\n",
      "R\n",
      "\n"
     ]
    }
   ],
   "source": [
    "with open(\"Hill.txt\") as f:\n",
    "    content = f.read()\n",
    "print(content)"
   ]
  },
  {
   "cell_type": "code",
   "execution_count": 43,
   "id": "97142fa3",
   "metadata": {},
   "outputs": [],
   "source": [
    "def affine(a,b,x):\n",
    "    return (a * x  + b) % 26\n",
    "\n",
    "def affine_inv(a,b,x):\n",
    "    return ((1/a)*(n-b)) % 26\n",
    "\n",
    "def inv_lst(lst):\n",
    "    lst_inv = dict()\n",
    "    for a in lst:\n",
    "        for b in lst:\n",
    "            if(a*b%26 ==1):\n",
    "                lst_inv[a]=b\n",
    "    return lst_inv"
   ]
  },
  {
   "cell_type": "code",
   "execution_count": 44,
   "id": "891cdc89",
   "metadata": {},
   "outputs": [
    {
     "data": {
      "text/plain": [
       "{1: 1,\n",
       " 3: 9,\n",
       " 5: 21,\n",
       " 7: 15,\n",
       " 9: 3,\n",
       " 11: 19,\n",
       " 15: 7,\n",
       " 17: 23,\n",
       " 19: 11,\n",
       " 21: 5,\n",
       " 23: 17,\n",
       " 25: 25}"
      ]
     },
     "execution_count": 44,
     "metadata": {},
     "output_type": "execute_result"
    }
   ],
   "source": [
    "inv_lst([i for i in range(1,26,2)])"
   ]
  },
  {
   "cell_type": "code",
   "execution_count": 91,
   "id": "2d1efb4e",
   "metadata": {},
   "outputs": [],
   "source": [
    "class mod26:\n",
    "    def __init__(self, n):\n",
    "        self.n = n%26\n",
    "        \n",
    "    def __add__(self, other):\n",
    "        return (self.n + other.n)%26\n",
    "    \n",
    "    def __mul__(self,other):\n",
    "        return (self.n * other.n)%26\n",
    "    \n",
    "    def __pow__(self,other):\n",
    "        if(other !=-1):\n",
    "            raise ValueError\n",
    "        for b in range(1,26,2):\n",
    "            if(self.n *b %26 ==1):\n",
    "                return b\n",
    "        return None\n",
    "\n",
    "\n"
   ]
  },
  {
   "cell_type": "code",
   "execution_count": 152,
   "id": "024dddf2",
   "metadata": {},
   "outputs": [
    {
     "name": "stdout",
     "output_type": "stream",
     "text": [
      "4\n",
      "21\n",
      "25\n"
     ]
    }
   ],
   "source": [
    "a = mod26(25)\n",
    "b = mod26(5)\n",
    "print(a+b)\n",
    "print(a*b)\n",
    "print(a**-1)"
   ]
  },
  {
   "cell_type": "code",
   "execution_count": 236,
   "id": "b30769da",
   "metadata": {},
   "outputs": [],
   "source": [
    "class mat:\n",
    "    matrice=[]\n",
    "    def __init__(self,n):\n",
    "        self.n= n\n",
    "        for i in range (n):\n",
    "            lst=[]\n",
    "            for j in range (n):\n",
    "                lst.append(j)\n",
    "            self.matrice.append(lst)\n",
    "            \n",
    "    def __repr__(self):\n",
    "        display =\"\"\n",
    "        for i in range(len(self.matrice)):\n",
    "            display+=\"[\"\n",
    "            for j in range(self.n):\n",
    "                display += str(j)\n",
    "            display += \"]\\n\"\n",
    "        return display\n",
    "        "
   ]
  },
  {
   "cell_type": "code",
   "execution_count": 237,
   "id": "86f49cee",
   "metadata": {},
   "outputs": [
    {
     "data": {
      "text/plain": [
       "[0123]\n",
       "[0123]\n",
       "[0123]\n",
       "[0123]"
      ]
     },
     "execution_count": 237,
     "metadata": {},
     "output_type": "execute_result"
    }
   ],
   "source": [
    "mat(4)"
   ]
  },
  {
   "cell_type": "code",
   "execution_count": null,
   "id": "e3a90375",
   "metadata": {},
   "outputs": [],
   "source": []
  },
  {
   "cell_type": "code",
   "execution_count": null,
   "id": "d69d0297",
   "metadata": {},
   "outputs": [],
   "source": []
  }
 ],
 "metadata": {
  "kernelspec": {
   "display_name": "Python 3",
   "language": "python",
   "name": "python3"
  },
  "language_info": {
   "codemirror_mode": {
    "name": "ipython",
    "version": 3
   },
   "file_extension": ".py",
   "mimetype": "text/x-python",
   "name": "python",
   "nbconvert_exporter": "python",
   "pygments_lexer": "ipython3",
   "version": "3.6.9"
  }
 },
 "nbformat": 4,
 "nbformat_minor": 5
}
